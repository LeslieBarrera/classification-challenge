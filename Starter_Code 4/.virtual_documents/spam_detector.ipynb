


import pandas as pd
from sklearn.model_selection import train_test_split
from sklearn.metrics import accuracy_score





# Import the data
data = pd.read_csv("https://static.bc-edx.com/ai/ail-v-1-0/m13/challenge/spam-data.csv")
data.head()











# Create the labels set `y` and features DataFrame `X`
y = data["spam"]  # Labels
X = data.drop(columns=["spam"])  # Features


# Check the balance of the labels variable (`y`) by using the `value_counts` function.
print(y.value_counts())


# Split the data into X_train, X_test, y_train, y_test
from sklearn.model_selection import train_test_split
X_train, X_test, y_train, y_test = train_test_split(X, y, test_size=0.2, random_state=1)








from sklearn.preprocessing import StandardScaler

# Create the StandardScaler instance
scaler = StandardScaler()


# Fit the Standard Scaler with the training data
scaler.fit(X_train)


# Scale the training data
X_train_scaled = scaler.transform(X_train)

# Scale the testing data
X_test_scaled = scaler.transform(X_test)





from sklearn.linear_model import LogisticRegression
from sklearn.metrics import accuracy_score

# Create and fit a Logistic Regression model
log_reg = LogisticRegression(random_state=1)
log_reg.fit(X_train_scaled, y_train)


# Make and save testing predictions with the trained Logistic Regression model using the test data
testing_predictions_log_reg = log_reg.predict(X_test_scaled)

# Review the predictions
print(testing_predictions_log_reg[:10])  # Display first 10 predictions for quick review



# Calculate the accuracy score by evaluating `y_test` vs. `testing_predictions`
log_reg_accuracy = accuracy_score(y_test, testing_predictions_log_reg)
print(f"Logistic Regression Model Accuracy: {log_reg_accuracy:.4f}")





from sklearn.ensemble import RandomForestClassifier
from sklearn.metrics import accuracy_score

# Create and fit a Random Forest Classifier model
rf_model = RandomForestClassifier(random_state=1)
rf_model.fit(X_train_scaled, y_train)


# Make and save testing predictions with the trained Random Forest Classifier model using the test data
testing_predictions_rf = rf_model.predict(X_test_scaled)

# Review the predictions
print(testing_predictions_rf[:10])  # Display first 10 predictions for quick review



# Calculate the accuracy score by evaluating `y_test` vs. `testing_predictions`
rf_accuracy = accuracy_score(y_test, testing_predictions_rf)
print(f"Random Forest Classifier Model Accuracy: {rf_accuracy:.4f}")









